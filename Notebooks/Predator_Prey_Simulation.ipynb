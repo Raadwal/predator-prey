{
  "cells": [
    {
      "cell_type": "markdown",
      "metadata": {
        "id": "xnXC87mLEszA"
      },
      "source": [
        "### Setup\n"
      ]
    },
    {
      "cell_type": "code",
      "execution_count": null,
      "metadata": {
        "id": "F1N1HczZm-8T"
      },
      "outputs": [],
      "source": [
        "!pip install imageio > /dev/null 2>&1"
      ]
    },
    {
      "cell_type": "code",
      "execution_count": null,
      "metadata": {
        "id": "aA4N7PnvnhKQ"
      },
      "outputs": [],
      "source": [
        "from google.colab import drive\n",
        "PATH_TO_ENVIRONMENT = '/content/drive/MyDrive/Master_Thesis/Final/Predator-Prey_Environment'\n",
        "PATH_TO_ALGORITHMS = '/content/drive/MyDrive/Master_Thesis/Final/Algorithm'\n",
        "\n",
        "PATH_TO_PREY_MODEL = '/content/drive/MyDrive/Master_Thesis/Final/Algorithm/Prey.pth'\n",
        "PATH_TO_PREDATOR_MODEL = '/content/drive/MyDrive/Master_Thesis/Final/Algorithm/Predator.pth'\n",
        "\n",
        "drive.mount('/content/drive')\n",
        "\n",
        "!cp {PATH_TO_ALGORITHMS}/colab_helpers.py /content\n",
        "!cp {PATH_TO_ALGORITHMS}/A2C.py /content\n",
        "\n",
        "!cp -r {PATH_TO_ENVIRONMENT}/utils /content\n",
        "!cp -r {PATH_TO_ENVIRONMENT}/render_utils /content\n",
        "!cp -r {PATH_TO_ENVIRONMENT}/entities /content\n",
        "!cp -r {PATH_TO_ENVIRONMENT}/colliders /content\n",
        "!cp {PATH_TO_ENVIRONMENT}/environment.py /content"
      ]
    },
    {
      "cell_type": "code",
      "execution_count": null,
      "metadata": {
        "id": "-ycjYog78ir7"
      },
      "outputs": [],
      "source": [
        "import matplotlib.pyplot as plt\n",
        "import numpy as np\n",
        "\n",
        "from A2C import AgentA2C\n",
        "from colab_helpers import save_video, show_video\n",
        "from environment import Environment"
      ]
    },
    {
      "cell_type": "code",
      "execution_count": null,
      "metadata": {
        "id": "TIzgev4FFvHw"
      },
      "outputs": [],
      "source": [
        "# Path to save generated videos\n",
        "VIDEO_FILE_PATH = '.'\n",
        "\n",
        "# Mode in which environment is rendered\n",
        "RENDER_MODE = 'rgb_array'\n",
        "\n",
        "TIME_STEPS = 5000\n",
        "\n",
        "prey_action_space = 4\n",
        "prey_obs_space = 23\n",
        "\n",
        "predator_action_space = 4\n",
        "predator_obs_space = 17\n",
        "\n",
        "\n",
        "prey_agent = AgentA2C(prey_action_space, prey_obs_space, units=256, dropout=0)\n",
        "predator_agent = AgentA2C(predator_action_space, predator_obs_space, units=256, dropout=0)\n",
        "\n",
        "prey_agent.load(PATH_TO_PREY_MODEL)\n",
        "predator_agent.load(PATH_TO_PREDATOR_MODEL)"
      ]
    },
    {
      "cell_type": "code",
      "execution_count": null,
      "metadata": {
        "id": "O6BOtdBpFfLC"
      },
      "outputs": [],
      "source": [
        "env = Environment(render_mode=RENDER_MODE,\n",
        "                  preys_initial_count=25,\n",
        "                  plants_count=200,\n",
        "                  predators_initial_count=25)"
      ]
    },
    {
      "cell_type": "markdown",
      "metadata": {
        "id": "B_GkdxdvEm-_"
      },
      "source": [
        "### Random movement of prey and predator\n"
      ]
    },
    {
      "cell_type": "code",
      "execution_count": null,
      "metadata": {
        "id": "32ZiJwlBHS8J"
      },
      "outputs": [],
      "source": [
        "frames = []\n",
        "state = env.reset()\n",
        "total_reward = 0\n",
        "\n",
        "preys_over_time = []\n",
        "predators_over_time = []\n",
        "grown_plants_over_time = []\n",
        "\n",
        "for time_step in range(TIME_STEPS):\n",
        "  done = False\n",
        "\n",
        "  for prey in env.get_preys():\n",
        "    env.step_prey(prey, np.random.randint(0, prey_action_space))\n",
        "\n",
        "  for predator in env.get_predators():\n",
        "    env.step_predator(predator, np.random.randint(0, predator_action_space))\n",
        "\n",
        "  env.step()\n",
        "\n",
        "  frame = env.render()\n",
        "  frames.append(frame)\n",
        "\n",
        "  print(f\"\\rTime step: {time_step}, predators: {len(env.get_predators())}, preys: {len(env.get_preys())} , plants:{count}\", end=\"\")\n",
        "\n",
        "  if len(env.get_preys()) == 0 and len(env.get_predators()) == 0:\n",
        "    break\n",
        "  else:\n",
        "    preys_over_time.append(len(env.get_preys()))\n",
        "    predators_over_time.append(len(env.get_predators()))\n",
        "\n",
        "    count = 0\n",
        "    for plant in env._plants:\n",
        "      if plant._is_grown:\n",
        "        count += 1\n",
        "\n",
        "    grown_plants_over_time.append(count)\n",
        "\n",
        "save_video(frames, f'{VIDEO_FILE_PATH}/Test of environment')\n",
        "show_video(f'{VIDEO_FILE_PATH}/Test of environment.mp4')"
      ]
    },
    {
      "cell_type": "code",
      "execution_count": null,
      "metadata": {
        "id": "repNhx70GnhL"
      },
      "outputs": [],
      "source": [
        "plt.figure(figsize=(15, 6))\n",
        "\n",
        "plt.plot(range(len(preys_over_time)), preys_over_time, label=\"Ofiary\", color='tab:blue', linewidth=3)\n",
        "plt.plot(range(len(predators_over_time)), predators_over_time, label=\"Drapieżniki\", color='tab:orange', linewidth=3)\n",
        "plt.plot(range(len(grown_plants_over_time)), grown_plants_over_time, label=\"Rośliny\", color='tab:green', linewidth=3)\n",
        "\n",
        "plt.title(\"Dynamika populacji w czasie trwania symulacji\", fontsize=16, fontweight='bold')\n",
        "plt.xlabel(\"Krok czasowy\", fontsize=14)\n",
        "plt.ylabel(\"Liczba osobników\", fontsize=14)\n",
        "\n",
        "plt.legend(loc='upper right', fontsize=12)\n",
        "\n",
        "plt.grid(True, linestyle='--', alpha=0.7)\n",
        "\n",
        "plt.xticks(fontsize=12)\n",
        "plt.yticks(fontsize=12)\n",
        "\n",
        "plt.show()"
      ]
    },
    {
      "cell_type": "code",
      "execution_count": null,
      "metadata": {
        "id": "odGVWfLLHfNH"
      },
      "outputs": [],
      "source": [
        "predator_statistics = env.get_predators_statistics()\n",
        "\n",
        "drink_counts = [v['drink_count'] for v in predator_statistics.values()]\n",
        "eat_counts = [v['eat_count'] for v in predator_statistics.values()]\n",
        "reproduction_counts = [v['reproduction_count'] for v in predator_statistics.values()]\n",
        "survived_time_steps = [v['survived_time_steps'] for v in predator_statistics.values()]\n",
        "\n",
        "fig, axes = plt.subplots(2, 2, figsize=(14, 10))\n",
        "\n",
        "axes[0, 0].hist(drink_counts, color='tab:blue', edgecolor='black')\n",
        "axes[0, 0].set_title(\"Histogram liczby nawodnień przy źródle wody\", fontsize=16, fontweight='bold')\n",
        "axes[0, 0].set_xlabel(\"Liczba nawodnień\", fontsize=14)\n",
        "axes[0, 0].set_ylabel(\"Częstotliwość\", fontsize=14)\n",
        "axes[0, 0].grid(True, linestyle='--', alpha=0.7)\n",
        "\n",
        "axes[0, 1].hist(eat_counts, color='tab:green', edgecolor='black')\n",
        "axes[0, 1].set_title(\"Histogram liczby posiłków\", fontsize=16, fontweight='bold')\n",
        "axes[0, 1].set_xlabel(\"Liczba posiłków\", fontsize=14)\n",
        "axes[0, 1].set_ylabel(\"Częstotliwość\", fontsize=14)\n",
        "axes[0, 1].grid(True, linestyle='--', alpha=0.7)\n",
        "\n",
        "axes[1, 0].hist(reproduction_counts, color='tab:purple', edgecolor='black')\n",
        "axes[1, 0].set_title(\"Histogram liczby reprodukcji\", fontsize=16, fontweight='bold')\n",
        "axes[1, 0].set_xlabel(\"Liczba reprodukcji\", fontsize=14)\n",
        "axes[1, 0].set_ylabel(\"Częstotliwość\", fontsize=14)\n",
        "axes[1, 0].grid(True, linestyle='--', alpha=0.7)\n",
        "\n",
        "axes[1, 1].hist(survived_time_steps, color='tab:gray', edgecolor='black')\n",
        "axes[1, 1].set_title(\"Histogram liczby przetrwanych kroków czasowych\", fontsize=16, fontweight='bold')\n",
        "axes[1, 1].set_xlabel(\"Kroki czasowe\", fontsize=14)\n",
        "axes[1, 1].set_ylabel(\"Częstotliwość\", fontsize=14)\n",
        "axes[1, 1].grid(True, linestyle='--', alpha=0.7)\n",
        "\n",
        "plt.tight_layout()\n",
        "\n",
        "plt.show()"
      ]
    },
    {
      "cell_type": "code",
      "execution_count": null,
      "metadata": {
        "id": "XOHOq8y0IPKk"
      },
      "outputs": [],
      "source": [
        "prey_statistics = env.get_preys_statistics()\n",
        "\n",
        "drink_counts = [v['drink_count'] for v in prey_statistics.values()]\n",
        "eat_counts = [v['eat_count'] for v in prey_statistics.values()]\n",
        "reproduction_counts = [v['reproduction_count'] for v in prey_statistics.values()]\n",
        "survived_time_steps = [v['survived_time_steps'] for v in predator_statistics.values()]\n",
        "\n",
        "fig, axes = plt.subplots(2, 2, figsize=(14, 10))\n",
        "\n",
        "axes[0, 0].hist(drink_counts, color='tab:blue', edgecolor='black')\n",
        "axes[0, 0].set_title(\"Histogram liczby nawodnień przy źródle wody\", fontsize=16, fontweight='bold')\n",
        "axes[0, 0].set_xlabel(\"Liczba nawodnień\", fontsize=14)\n",
        "axes[0, 0].set_ylabel(\"Częstotliwość\", fontsize=14)\n",
        "axes[0, 0].grid(True, linestyle='--', alpha=0.7)\n",
        "\n",
        "axes[0, 1].hist(eat_counts, color='tab:green', edgecolor='black')\n",
        "axes[0, 1].set_title(\"Histogram liczby posiłków\", fontsize=16, fontweight='bold')\n",
        "axes[0, 1].set_xlabel(\"Liczba posiłków\", fontsize=14)\n",
        "axes[0, 1].set_ylabel(\"Częstotliwość\", fontsize=14)\n",
        "axes[0, 1].grid(True, linestyle='--', alpha=0.7)\n",
        "\n",
        "axes[1, 0].hist(reproduction_counts, color='tab:purple', edgecolor='black')\n",
        "axes[1, 0].set_title(\"Histogram liczby reprodukcji\", fontsize=16, fontweight='bold')\n",
        "axes[1, 0].set_xlabel(\"Liczba reprodukcji\", fontsize=14)\n",
        "axes[1, 0].set_ylabel(\"Częstotliwość\", fontsize=14)\n",
        "axes[1, 0].grid(True, linestyle='--', alpha=0.7)\n",
        "\n",
        "axes[1, 1].hist(survived_time_steps, color='tab:gray', edgecolor='black')\n",
        "axes[1, 1].set_title(\"Histogram liczby przetrwanych kroków czasowych\", fontsize=16, fontweight='bold')\n",
        "axes[1, 1].set_xlabel(\"Kroki czasowe\", fontsize=14)\n",
        "axes[1, 1].set_ylabel(\"Częstotliwość\", fontsize=14)\n",
        "axes[1, 1].grid(True, linestyle='--', alpha=0.7)\n",
        "\n",
        "plt.tight_layout()\n",
        "\n",
        "plt.show()"
      ]
    },
    {
      "cell_type": "code",
      "execution_count": null,
      "metadata": {
        "id": "xkEmSdlyJOdk"
      },
      "outputs": [],
      "source": [
        "plants_statistics = env.get_plants_statistics()\n",
        "\n",
        "values = list(plants_statistics.values())\n",
        "\n",
        "plt.figure(figsize=(10, 4))\n",
        "plt.hist(values, color='tab:blue', edgecolor='black')\n",
        "plt.title(\"Histogram liczby zjedzeń roślin\", fontsize=16, fontweight='bold')\n",
        "plt.xlabel(\"Liczba zjedzeń\", fontsize=14)\n",
        "plt.ylabel(\"Częstotliwość\", fontsize=14)\n",
        "plt.grid(True, linestyle='--', alpha=0.7)\n",
        "plt.show()"
      ]
    },
    {
      "cell_type": "markdown",
      "metadata": {
        "id": "BFwBtJ1HNgjp"
      },
      "source": [
        "### Trained predator and prey environment"
      ]
    },
    {
      "cell_type": "code",
      "execution_count": null,
      "metadata": {
        "colab": {
          "background_save": true
        },
        "id": "EVUFUQh6lYPh"
      },
      "outputs": [],
      "source": [
        "env.reset()\n",
        "\n",
        "frames = []\n",
        "\n",
        "preys_obs_dict = {prey._id: env.obs_prey(prey) for prey in env.get_preys()}\n",
        "predators_obs_dict = {predator._id: env.obs_predator(predator) for predator in env.get_predators()}\n",
        "\n",
        "preys_over_time = []\n",
        "predators_over_time = []\n",
        "grown_plants_over_time = []\n",
        "\n",
        "for time_step in range(TIME_STEPS):\n",
        "\n",
        "  for prey in env.get_preys():\n",
        "    if prey._id not in preys_obs_dict:\n",
        "      preys_obs_dict[prey._id] =  env.obs_prey(prey)\n",
        "\n",
        "    action = prey_agent.act(preys_obs_dict[prey._id])\n",
        "    obs_prey, _, _ = env.step_prey(prey, action)\n",
        "    preys_obs_dict[prey._id] = obs_prey\n",
        "\n",
        "\n",
        "  for predator in env.get_predators():\n",
        "    if predator._id not in predators_obs_dict:\n",
        "      predators_obs_dict[predator._id] = env.obs_predator(predator)\n",
        "\n",
        "    action_predator = predator_agent.act(predators_obs_dict[predator._id])\n",
        "    obs_predator, _, _ = env.step_predator(predator, action_predator)\n",
        "    predators_obs_dict[predator._id] = obs_predator\n",
        "\n",
        "  env.step()\n",
        "\n",
        "  frame = env.render()\n",
        "  frames.append(frame)\n",
        "\n",
        "  if len(env.get_preys()) == 0 and len(env.get_predators()) == 0:\n",
        "    break\n",
        "  else:\n",
        "    preys_over_time.append(len(env.get_preys()))\n",
        "    predators_over_time.append(len(env.get_predators()))\n",
        "\n",
        "    count = 0\n",
        "    for plant in env._plants:\n",
        "      if plant._is_grown:\n",
        "        count += 1\n",
        "\n",
        "    grown_plants_over_time.append(count)\n",
        "\n",
        "    print(f\"\\rTime step: {time_step}, predators: {len(env.get_predators())}, preys: {len(env.get_preys())} , plants:{count}\", end=\"\")\n",
        "\n",
        "save_video(frames, f'{VIDEO_FILE_PATH}/Trained model')\n",
        "show_video(f'{VIDEO_FILE_PATH}/Trained model.mp4')"
      ]
    },
    {
      "cell_type": "code",
      "execution_count": null,
      "metadata": {
        "colab": {
          "background_save": true
        },
        "id": "-DaUo9Ut8VHO"
      },
      "outputs": [],
      "source": [
        "plt.figure(figsize=(15, 6))\n",
        "\n",
        "plt.plot(range(len(preys_over_time)), preys_over_time, label=\"Ofiary\", color='tab:blue', linewidth=3)\n",
        "plt.plot(range(len(predators_over_time)), predators_over_time, label=\"Drapieżniki\", color='tab:orange', linewidth=3)\n",
        "plt.plot(range(len(grown_plants_over_time)), grown_plants_over_time, label=\"Rośliny\", color='tab:green', linewidth=3)\n",
        "\n",
        "plt.title(\"Dynamika populacji w czasie trwania symulacji\", fontsize=16, fontweight='bold')\n",
        "plt.xlabel(\"Krok czasowy\", fontsize=14)\n",
        "plt.ylabel(\"Liczba osobników\", fontsize=14)\n",
        "\n",
        "plt.legend(loc='upper right', fontsize=12)\n",
        "\n",
        "plt.grid(True, linestyle='--', alpha=0.7)\n",
        "\n",
        "plt.xticks(fontsize=12)\n",
        "plt.yticks(fontsize=12)\n",
        "\n",
        "plt.show()"
      ]
    },
    {
      "cell_type": "code",
      "execution_count": null,
      "metadata": {
        "colab": {
          "background_save": true
        },
        "id": "7Bvl-X07gRKj"
      },
      "outputs": [],
      "source": [
        "prey_statistics = env.get_preys_statistics()\n",
        "\n",
        "drink_counts = [v['drink_count'] for v in prey_statistics.values()]\n",
        "eat_counts = [v['eat_count'] for v in prey_statistics.values()]\n",
        "reproduction_counts = [v['reproduction_count'] for v in prey_statistics.values()]\n",
        "survived_time_steps = [v['survived_time_steps'] for v in prey_statistics.values()]\n",
        "\n",
        "fig, axes = plt.subplots(2, 2, figsize=(14, 10))\n",
        "\n",
        "axes[0, 0].hist(drink_counts, color='tab:blue', edgecolor='black')\n",
        "axes[0, 0].set_title(\"Histogram liczby nawodnień przy źródle wody\", fontsize=16, fontweight='bold')\n",
        "axes[0, 0].set_xlabel(\"Liczba nawodnień\", fontsize=14)\n",
        "axes[0, 0].set_ylabel(\"Częstotliwość\", fontsize=14)\n",
        "axes[0, 0].grid(True, linestyle='--', alpha=0.7)\n",
        "\n",
        "axes[0, 1].hist(eat_counts, color='tab:green', edgecolor='black')\n",
        "axes[0, 1].set_title(\"Histogram liczby posiłków\", fontsize=16, fontweight='bold')\n",
        "axes[0, 1].set_xlabel(\"Liczba posiłków\", fontsize=14)\n",
        "axes[0, 1].set_ylabel(\"Częstotliwość\", fontsize=14)\n",
        "axes[0, 1].grid(True, linestyle='--', alpha=0.7)\n",
        "\n",
        "axes[1, 0].hist(reproduction_counts, color='tab:purple', edgecolor='black')\n",
        "axes[1, 0].set_title(\"Histogram liczby reprodukcji\", fontsize=16, fontweight='bold')\n",
        "axes[1, 0].set_xlabel(\"Liczba reprodukcji\", fontsize=14)\n",
        "axes[1, 0].set_ylabel(\"Częstotliwość\", fontsize=14)\n",
        "axes[1, 0].grid(True, linestyle='--', alpha=0.7)\n",
        "\n",
        "axes[1, 1].hist(survived_time_steps, color='tab:gray', edgecolor='black')\n",
        "axes[1, 1].set_title(\"Histogram liczby przetrwanych kroków czasowych\", fontsize=16, fontweight='bold')\n",
        "axes[1, 1].set_xlabel(\"Kroki czasowe\", fontsize=14)\n",
        "axes[1, 1].set_ylabel(\"Częstotliwość\", fontsize=14)\n",
        "axes[1, 1].grid(True, linestyle='--', alpha=0.7)\n",
        "\n",
        "plt.tight_layout()\n",
        "\n",
        "plt.show()"
      ]
    },
    {
      "cell_type": "code",
      "execution_count": null,
      "metadata": {
        "colab": {
          "background_save": true
        },
        "id": "sXltW1MO_SPo"
      },
      "outputs": [],
      "source": [
        "predator_statistics = env.get_predators_statistics()\n",
        "\n",
        "drink_counts = [v['drink_count'] for v in predator_statistics.values()]\n",
        "eat_counts = [v['eat_count'] for v in predator_statistics.values()]\n",
        "reproduction_counts = [v['reproduction_count'] for v in predator_statistics.values()]\n",
        "survived_time_steps = [v['survived_time_steps'] for v in predator_statistics.values()]\n",
        "\n",
        "fig, axes = plt.subplots(2, 2, figsize=(14, 10))\n",
        "\n",
        "axes[0, 0].hist(drink_counts, color='tab:blue', edgecolor='black')\n",
        "axes[0, 0].set_title(\"Histogram liczby nawodnień przy źródle wody\", fontsize=16, fontweight='bold')\n",
        "axes[0, 0].set_xlabel(\"Liczba nawodnień\", fontsize=14)\n",
        "axes[0, 0].set_ylabel(\"Częstotliwość\", fontsize=14)\n",
        "axes[0, 0].grid(True, linestyle='--', alpha=0.7)\n",
        "\n",
        "axes[0, 1].hist(eat_counts, color='tab:green', edgecolor='black')\n",
        "axes[0, 1].set_title(\"Histogram liczby posiłków\", fontsize=16, fontweight='bold')\n",
        "axes[0, 1].set_xlabel(\"Liczba posiłków\", fontsize=14)\n",
        "axes[0, 1].set_ylabel(\"Częstotliwość\", fontsize=14)\n",
        "axes[0, 1].grid(True, linestyle='--', alpha=0.7)\n",
        "\n",
        "axes[1, 0].hist(reproduction_counts, color='tab:purple', edgecolor='black')\n",
        "axes[1, 0].set_title(\"Histogram liczby reprodukcji\", fontsize=16, fontweight='bold')\n",
        "axes[1, 0].set_xlabel(\"Liczba reprodukcji\", fontsize=14)\n",
        "axes[1, 0].set_ylabel(\"Częstotliwość\", fontsize=14)\n",
        "axes[1, 0].grid(True, linestyle='--', alpha=0.7)\n",
        "\n",
        "axes[1, 1].hist(survived_time_steps, color='tab:gray', edgecolor='black')\n",
        "axes[1, 1].set_title(\"Histogram liczby przetrwanych kroków czasowych\", fontsize=16, fontweight='bold')\n",
        "axes[1, 1].set_xlabel(\"Kroki czasowe\", fontsize=14)\n",
        "axes[1, 1].set_ylabel(\"Częstotliwość\", fontsize=14)\n",
        "axes[1, 1].grid(True, linestyle='--', alpha=0.7)\n",
        "\n",
        "plt.tight_layout()\n",
        "\n",
        "plt.show()"
      ]
    },
    {
      "cell_type": "code",
      "execution_count": null,
      "metadata": {
        "colab": {
          "background_save": true
        },
        "id": "HyyUIJoTR6on"
      },
      "outputs": [],
      "source": [
        "plants_statistics = env.get_plants_statistics()\n",
        "\n",
        "values = list(plants_statistics.values())\n",
        "\n",
        "plt.figure(figsize=(10, 4))\n",
        "plt.hist(values, color='tab:blue', edgecolor='black')\n",
        "plt.title(\"Histogram liczby zjedzeń roślin\", fontsize=16, fontweight='bold')\n",
        "plt.xlabel(\"Liczba zjedzeń\", fontsize=14)\n",
        "plt.ylabel(\"Częstotliwość\", fontsize=14)\n",
        "plt.grid(True, linestyle='--', alpha=0.7)\n",
        "plt.show()"
      ]
    },
    {
      "cell_type": "code",
      "execution_count": null,
      "metadata": {
        "id": "MUyLWlx7VDB8"
      },
      "outputs": [],
      "source": []
    }
  ],
  "metadata": {
    "accelerator": "GPU",
    "colab": {
      "gpuType": "T4",
      "machine_shape": "hm",
      "provenance": []
    },
    "kernelspec": {
      "display_name": "Python 3",
      "name": "python3"
    },
    "language_info": {
      "name": "python"
    }
  },
  "nbformat": 4,
  "nbformat_minor": 0
}